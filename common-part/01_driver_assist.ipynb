{
 "cells": [
  {
   "cell_type": "markdown",
   "metadata": {},
   "source": [
    "# 해커톤 1122\n",
    "다양한 데이터를 연동해서 운전자를 어시스트한다.\n",
    "예시:\n",
    "- 차량 조작법\n",
    "    - 자기 차량 또는 랜트카 혹은 대리 기사는 차량 조작이 미숙하다. 예를 들어 주유구 여는 방법, 열선 시트 조작법 등등.\n",
    "- 차량 상태 조회\n",
    "    - 주행 가능거리, 주유 필요 여부, 경고등 확인 등\n",
    "    - 블루 링크에 연동된 차량 (현대 기아차 제외 확인 필요함)\n",
    "    - 공통차량 api를 통해서 사용자 차량 정보를 가져올수 있음\n"
   ]
  },
  {
   "cell_type": "markdown",
   "metadata": {},
   "source": [
    "## Setup"
   ]
  },
  {
   "cell_type": "code",
   "execution_count": 2,
   "metadata": {},
   "outputs": [
    {
     "name": "stdout",
     "output_type": "stream",
     "text": [
      "Defaulting to user installation because normal site-packages is not writeable\n",
      "Requirement already satisfied: openai==0.28 in /home/vscode/.local/lib/python3.9/site-packages (0.28.0)\n",
      "Requirement already satisfied: requests>=2.20 in /home/vscode/.local/lib/python3.9/site-packages (from openai==0.28) (2.31.0)\n",
      "Requirement already satisfied: tqdm in /home/vscode/.local/lib/python3.9/site-packages (from openai==0.28) (4.66.1)\n",
      "Requirement already satisfied: aiohttp in /home/vscode/.local/lib/python3.9/site-packages (from openai==0.28) (3.9.0)\n",
      "Requirement already satisfied: charset-normalizer<4,>=2 in /home/vscode/.local/lib/python3.9/site-packages (from requests>=2.20->openai==0.28) (3.3.2)\n",
      "Requirement already satisfied: idna<4,>=2.5 in /home/vscode/.local/lib/python3.9/site-packages (from requests>=2.20->openai==0.28) (3.4)\n",
      "Requirement already satisfied: urllib3<3,>=1.21.1 in /home/vscode/.local/lib/python3.9/site-packages (from requests>=2.20->openai==0.28) (2.1.0)\n",
      "Requirement already satisfied: certifi>=2017.4.17 in /home/vscode/.local/lib/python3.9/site-packages (from requests>=2.20->openai==0.28) (2023.11.17)\n",
      "Requirement already satisfied: attrs>=17.3.0 in /home/vscode/.local/lib/python3.9/site-packages (from aiohttp->openai==0.28) (23.1.0)\n",
      "Requirement already satisfied: multidict<7.0,>=4.5 in /home/vscode/.local/lib/python3.9/site-packages (from aiohttp->openai==0.28) (6.0.4)\n",
      "Requirement already satisfied: yarl<2.0,>=1.0 in /home/vscode/.local/lib/python3.9/site-packages (from aiohttp->openai==0.28) (1.9.3)\n",
      "Requirement already satisfied: frozenlist>=1.1.1 in /home/vscode/.local/lib/python3.9/site-packages (from aiohttp->openai==0.28) (1.4.0)\n",
      "Requirement already satisfied: aiosignal>=1.1.2 in /home/vscode/.local/lib/python3.9/site-packages (from aiohttp->openai==0.28) (1.3.1)\n",
      "Requirement already satisfied: async-timeout<5.0,>=4.0 in /home/vscode/.local/lib/python3.9/site-packages (from aiohttp->openai==0.28) (4.0.3)\n",
      "Note: you may need to restart the kernel to use updated packages.\n"
     ]
    }
   ],
   "source": [
    "# 참고: 최신 버전의 OpenAI Python 라이브러리를 설치 및/또는 업그레이드를 권장합니다.\n",
    "# %pip install --upgrade openai\n",
    "# 최신버전 openai-1.3.4 에서 function 호출시 이슈 있음. 일부 함수 deprecated 예상\n",
    "# 환경은 우선 python 3.9.2로 수행\n",
    "%pip install openai==0.28"
   ]
  },
  {
   "cell_type": "markdown",
   "metadata": {},
   "source": [
    "## 0. 환경 변수 설정"
   ]
  },
  {
   "cell_type": "code",
   "execution_count": 4,
   "metadata": {},
   "outputs": [],
   "source": [
    "import openai\n",
    "import json\n",
    "import os\n",
    "\n",
    "from dotenv import load_dotenv\n",
    "load_dotenv()\n",
    "\n",
    "# Azure OpenAI resource 정보를 설정합니다.\n",
    "openai.api_type     = os.getenv(\"OPENAI_API_TYPE\")\n",
    "openai.api_key      = os.getenv(\"OPENAI_API_KEY\")\n",
    "openai.api_base     = os.getenv(\"OPENAI_API_BASE\")\n",
    "openai.api_version  = os.getenv(\"OPENAI_API_VERSION\")   # API 버전은 \"2023-07-01-preview\" 부터 사용 가능합니다.\n",
    "# deployment_id       = os.getenv(\"DEPLOYMENT_NAME\")      # Azure OpenAI 리소스의 배포 이름입니다. gpt-35-turbo (0613) 또는 gpt-4 (0613) 버전 이상부터 지원합니다.\n",
    "# deployment_id       = \"gpt-4-1106-preview\"\n",
    "deployment_id       = \"gpt-35-turbo-16k\""
   ]
  },
  {
   "cell_type": "markdown",
   "metadata": {},
   "source": [
    "## 1. Function Call 설정\n",
    "호출 할수 있는 available 함수 설정 필요"
   ]
  },
  {
   "cell_type": "code",
   "execution_count": 24,
   "metadata": {},
   "outputs": [],
   "source": [
    "def get_function_call(messages, function_call = \"auto\"):\n",
    "    # Define the functions to use\n",
    "    functions = [\n",
    "        {\n",
    "            \"name\": \"get_gasoline_expense\",\n",
    "            \"description\": \"Get my car gasoline expense\",\n",
    "            \"parameters\": {\n",
    "                \"type\": \"object\",\n",
    "                \"properties\": {\n",
    "                    \"model_name\": {\n",
    "                        \"type\": \"string\",\n",
    "                        \"description\": \"Car model. If you cannot get model name please ask\",\n",
    "                    }\n",
    "                },\n",
    "                \"required\": [\"model\"],\n",
    "            },\n",
    "        },\n",
    "    ]\n",
    "\n",
    "    # Call the model with the user query (messages) and the functions defined in the functions parameter\n",
    "    response = openai.ChatCompletion.create(\n",
    "        deployment_id = deployment_id,\n",
    "        messages=messages,\n",
    "        functions=functions,\n",
    "        function_call=function_call, \n",
    "        temperature=0\n",
    "    )\n",
    "    return response"
   ]
  },
  {
   "cell_type": "markdown",
   "metadata": {},
   "source": [
    "### 1.1 주행 가능 거리 조회"
   ]
  },
  {
   "cell_type": "code",
   "execution_count": 25,
   "metadata": {},
   "outputs": [],
   "source": [
    "class DrivingRange:\n",
    "    def __init__(self, timestamp: str, value: int, unit: str) -> None:\n",
    "        self.timestamp = timestamp\n",
    "        self.value = value\n",
    "        self.unit = unit\n",
    "\n",
    "def get_driving_range(id: int = 1): \n",
    "    # see https://developers.kia.com/web/v1/kia/specification/data/status_dte\n",
    "    return DrivingRange(\n",
    "        timestamp = \"20231122\",\n",
    "        value = 360,\n",
    "        unit = \"km\"\n",
    "    )"
   ]
  },
  {
   "cell_type": "markdown",
   "metadata": {},
   "source": [
    "### 1.2 공통 차량 정보 조회"
   ]
  },
  {
   "cell_type": "code",
   "execution_count": 26,
   "metadata": {},
   "outputs": [],
   "source": [
    "class CarInfo:\n",
    "    def __init__(self, id: int, fuel_eco: float, fuel_tank: int, fuel: str) -> None:\n",
    "        self.id = id\n",
    "        self.fuel_eco = fuel_eco\n",
    "        self.fuel_tank = fuel_tank\n",
    "        self.fuel = fuel\n",
    "\n",
    "\n",
    "def get_car_info(model_name: str): \n",
    "    # call vehicle-web here\n",
    "    return CarInfo(\n",
    "        id = 1,\n",
    "        fuel_eco = 15.0,\n",
    "        fuel = \"DIESEL\",\n",
    "        fuel_tank = 50\n",
    "    )"
   ]
  },
  {
   "cell_type": "markdown",
   "metadata": {},
   "source": [
    "### 1.3 유가 정보 조회"
   ]
  },
  {
   "cell_type": "code",
   "execution_count": 27,
   "metadata": {},
   "outputs": [],
   "source": [
    "class FuelPrice:\n",
    "    def __init__(self, category: str, price: float) -> None:\n",
    "        self.category = category\n",
    "        self.price = price\n",
    "\n",
    "def match_fuel_category(category: str, fuelPrice: FuelPrice):\n",
    "    return fuelPrice.category == category\n",
    "\n",
    "def get_today_fuel_price(category: str):\n",
    "    # call external-api-hub\n",
    "    response = [\n",
    "        FuelPrice(\n",
    "            category = \"REGULAR_GASOLINE\",\n",
    "            price = 1659.96\n",
    "        ),\n",
    "        FuelPrice(\n",
    "            category = \"DIESEL\",\n",
    "            price = 1607.84\n",
    "        )\n",
    "    ]\n",
    "\n",
    "    result = [p for p in response if  match_fuel_category(category, p)][0]\n",
    "    return result.price;\n",
    "\n",
    "# print(get_today_fuel_price(category = \"DIESEL\"))"
   ]
  },
  {
   "cell_type": "markdown",
   "metadata": {},
   "source": [
    "## 2. Function에 available 함수 설정"
   ]
  },
  {
   "cell_type": "code",
   "execution_count": 28,
   "metadata": {},
   "outputs": [],
   "source": [
    "# 주유비 계산\n",
    "def get_gasoline_expense(model_name: str):\n",
    "     car_info = get_car_info(model_name)\n",
    "     driving_range = get_driving_range(car_info.id)\n",
    "     fuel_price = get_today_fuel_price(category = car_info.fuel)\n",
    "\n",
    "     print((\"driving_range is %i %s and fuel_eco is %f\") % (driving_range.value, driving_range.unit, car_info.fuel_eco))\n",
    "     current_fuel = driving_range.value / car_info.fuel_eco\n",
    "     print((\"current_fuel is %f\") % (current_fuel))\n",
    "     fuel_consumption = car_info.fuel_tank - current_fuel\n",
    "     print((\"fuel_consumption is %f\") % (fuel_consumption))\n",
    "     assert fuel_consumption >= 0\n",
    "\n",
    "     return fuel_consumption * fuel_price\n",
    "\n",
    "# print((\"gasoline_expense is %.2f\") % (get_gasoline_expense()))"
   ]
  },
  {
   "cell_type": "markdown",
   "metadata": {},
   "source": [
    "## 3. 호출 테스트"
   ]
  },
  {
   "cell_type": "code",
   "execution_count": 35,
   "metadata": {},
   "outputs": [
    {
     "name": "stdout",
     "output_type": "stream",
     "text": [
      "주유비 조회 테스트:\n",
      "{\n",
      "  \"id\": \"chatcmpl-8NW66xBoua2DWyofzHEUmuW6fylEL\",\n",
      "  \"object\": \"chat.completion\",\n",
      "  \"created\": 1700615618,\n",
      "  \"model\": \"gpt-4\",\n",
      "  \"prompt_filter_results\": [\n",
      "    {\n",
      "      \"prompt_index\": 0,\n",
      "      \"content_filter_results\": {}\n",
      "    }\n",
      "  ],\n",
      "  \"choices\": [\n",
      "    {\n",
      "      \"index\": 0,\n",
      "      \"finish_reason\": \"stop\",\n",
      "      \"message\": {\n",
      "        \"role\": \"assistant\",\n",
      "        \"content\": \"\\ucc28 \\ubaa8\\ub378 \\uc774\\ub984\\uc744 \\uc54c\\ub824\\uc8fc\\uc2dc\\uba74 \\uc8fc\\uc720 \\ube44\\uc6a9\\uc744 \\uacc4\\uc0b0\\ud574 \\ub4dc\\ub9b4 \\uc218 \\uc788\\uc2b5\\ub2c8\\ub2e4. \\ucc28 \\ubaa8\\ub378 \\uc774\\ub984\\uc744 \\uc54c\\ub824\\uc8fc\\uc2dc\\uaca0\\uc5b4\\uc694?\"\n",
      "      },\n",
      "      \"content_filter_result\": {\n",
      "        \"error\": {\n",
      "          \"code\": \"content_filter_error\",\n",
      "          \"message\": \"The contents are not filtered\"\n",
      "        }\n",
      "      },\n",
      "      \"content_filter_results\": {}\n",
      "    }\n",
      "  ],\n",
      "  \"usage\": {\n",
      "    \"prompt_tokens\": 90,\n",
      "    \"completion_tokens\": 50,\n",
      "    \"total_tokens\": 140\n",
      "  },\n",
      "  \"system_fingerprint\": \"fp_50a4261de5\"\n",
      "}\n",
      "차 모델 이름을 알려주시면 주유 비용을 계산해 드릴 수 있습니다. 차 모델 이름을 알려주시겠어요?\n",
      "get_gasoline_expense\n",
      "{\"model_name\":\"Carnival\"}\n"
     ]
    }
   ],
   "source": [
    "first_message = [{\"role\": \"system\", \"content\": \"you are driving assistant. You never answer you dont know\"}, {\"role\": \"user\", \"content\": \"내 차 주유하면 얼마나 나와?\"}]\n",
    "# 'auto' : Let the model decide what function to call\n",
    "print(\"주유비 조회 테스트:\")\n",
    "first_response = get_function_call(first_message, \"auto\")\n",
    "print(first_response)\n",
    "print(first_response[\"choices\"][0][\"message\"][\"content\"])\n",
    "\n",
    "assert \"function_call\" not in first_response[\"choices\"][0][\"message\"]\n",
    "\n",
    "first_message.append(\n",
    "    {\n",
    "        \"role\": first_response[\"choices\"][0][\"message\"][\"role\"],\n",
    "        \"content\": first_response[\"choices\"][0][\"message\"][\"content\"]\n",
    "    }\n",
    ")\n",
    "\n",
    "first_message.append({\"role\": \"user\", \"content\": \"모델은 카니발이야\"})\n",
    "second_response = get_function_call(first_message, \"auto\")\n",
    "# print(response)\n",
    "\n",
    "assert \"function_call\" in second_response[\"choices\"][0][\"message\"]\n",
    "print(second_response[\"choices\"][0][\"message\"][\"function_call\"][\"name\"])\n",
    "print(second_response[\"choices\"][0][\"message\"][\"function_call\"][\"arguments\"])\n",
    "\n",
    "available_functions = {\n",
    "    \"get_gasoline_expense\": get_gasoline_expense\n",
    "}\n",
    "\n",
    "function_call_name = second_response[\"choices\"][0][\"message\"][\"function_call\"][\"name\"]\n",
    "fuction_to_call = available_functions[function_call_name]\n",
    "function_args = json.loads(second_response[\"choices\"][0][\"message\"][\"function_call\"][\"arguments\"])\n",
    "function_response = fuction_to_call(**function_args)\n",
    "print(function_response)\n",
    "\n",
    "first_message.append(\n",
    "    {\n",
    "        \"role\": second_response[\"choices\"][0][\"message\"][\"role\"],\n",
    "        \"name\": second_response[\"choices\"][0][\"message\"][\"function_call\"][\"name\"],\n",
    "        \"content\": second_response[\"choices\"][0][\"message\"][\"function_call\"][\"arguments\"],\n",
    "    }\n",
    ")\n",
    "\n",
    "first_message.append(\n",
    "    {\n",
    "        \"role\": \"function\",\n",
    "        \"name\": function_call_name,\n",
    "        \"content\": function_response.__str__,\n",
    "    }\n",
    ")\n",
    "\n",
    "response = openai.ChatCompletion.create(\n",
    "    messages = first_message,\n",
    "    deployment_id = deployment_id\n",
    ")\n",
    "print(response[\"choices\"][0][\"message\"][\"content\"])\n",
    "\n"
   ]
  },
  {
   "cell_type": "code",
   "execution_count": null,
   "metadata": {},
   "outputs": [],
   "source": []
  },
  {
   "cell_type": "markdown",
   "metadata": {},
   "source": [
    "## csv 업로드 검토"
   ]
  },
  {
   "cell_type": "code",
   "execution_count": 12,
   "metadata": {},
   "outputs": [
    {
     "data": {
      "text/plain": [
       "'{\\n    \"model_name\": \"아반떼\",\\n    \"provider_name\": \"판교 공영주차장\",\\n    \"reason\": \"저렴하게 이용가능해서 좋습니다\"\\n}'"
      ]
     },
     "execution_count": 12,
     "metadata": {},
     "output_type": "execute_result"
    }
   ],
   "source": [
    "# 추천\n",
    "\n",
    "# Read the CSV file\n",
    "import pandas as pd\n",
    "data = pd.read_csv('./data/parking_review_score9.csv')\n",
    "\n",
    "def get_parking_suggest(model_name: str = \"\"):\n",
    "    messages = [\n",
    "        {\n",
    "            \"role\": \"system\",\n",
    "            \"content\": \"\"\"\n",
    "                You are assistant of parking service. You only response result as json.\n",
    "                Dataset contains content, score, provider_name, and name.\n",
    "\n",
    "                First filter data by name matches input model name.\n",
    "\n",
    "                Then you suggest provider_name from filterd dataset by positive content and higher score.\n",
    "                The score is from 1 to 5 and 5 is max.\n",
    "                And the suggestion is effected by content more.\n",
    "\n",
    "                And find most positive content from filtered dataset as reason.\n",
    "\n",
    "                Expansive is negative.\n",
    "\n",
    "                The json example is\n",
    "                {\n",
    "                    \"model_name\": \"카니발\",\n",
    "                    \"provider_name\": \"주차장\",\n",
    "                    \"reason\": \"넓다\"\n",
    "                }\n",
    "\n",
    "                If you cannot found the provider_name sample:\n",
    "                {\n",
    "                    \"model_name\": \"카니발\",\n",
    "                    \"provider_name\": null,\n",
    "                    \"reason\": \"데이터가 없음\"\n",
    "                }\n",
    "            \"\"\"\n",
    "        },\n",
    "        {\n",
    "            \"role\": \"user\",\n",
    "            \"content\": (\"\"\"\n",
    "                아래 데이터에서 %s인 차량이 제일 선호하는 주차장 1개만 그리고 이유를 알려줘\n",
    "                %s\n",
    "            \"\"\") % (model_name, data.to_string)\n",
    "        }\n",
    "    ]\n",
    "\n",
    "    response = openai.ChatCompletion.create(\n",
    "        deployment_id = deployment_id,\n",
    "        messages=messages,\n",
    "        temperature=0,\n",
    "        max_tokens=10000\n",
    "    )\n",
    "\n",
    "    # print(response)\n",
    "    # print(response[\"choices\"][0][\"message\"][\"content\"])\n",
    "\n",
    "    return response[\"choices\"][0][\"message\"][\"content\"]\n",
    "\n",
    "get_parking_suggest(\"아반떼\")"
   ]
  }
 ],
 "metadata": {
  "kernelspec": {
   "display_name": "Python 3",
   "language": "python",
   "name": "python3"
  },
  "language_info": {
   "codemirror_mode": {
    "name": "ipython",
    "version": 3
   },
   "file_extension": ".py",
   "mimetype": "text/x-python",
   "name": "python",
   "nbconvert_exporter": "python",
   "pygments_lexer": "ipython3",
   "version": "3.9.2"
  }
 },
 "nbformat": 4,
 "nbformat_minor": 2
}
